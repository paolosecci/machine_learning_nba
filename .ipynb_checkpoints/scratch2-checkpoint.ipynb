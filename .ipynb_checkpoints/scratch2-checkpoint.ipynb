{
 "cells": [
  {
   "cell_type": "code",
   "execution_count": 51,
   "metadata": {},
   "outputs": [],
   "source": [
    "import pandas as pd\n",
    "import datetime\n",
    "\n",
    "#FUNCTIONS\n",
    "def get_data():\n",
    "    import requests\n",
    "    nba_url = \"https://stats.nba.com/stats/leaguegamelog?Counter=1000&DateFrom=&DateTo=&Direction=DESC&LeagueID=00&PlayerOrTeam=P&Season=2018-19&SeasonType=Regular+Season&Sorter=DATE\"\n",
    "    this_user_agent = {'User-Agent': 'Mozilla/5.0 (Macintosh; Intel Mac OS X 10_13_6) AppleWebKit/537.36 (KHTML, like Gecko) Chrome/70.0.3538.77 Safari/537.36'}\n",
    "    re = requests.get(nba_url, headers=this_user_agent)\n",
    "    print(re.status_code)\n",
    "    import json\n",
    "    nba_json = json.loads(re.text)\n",
    "    return nba_json\n",
    "\n",
    "def make_json_df(nba_json):\n",
    "    headers = nba_json['resultSets'][0]['headers']\n",
    "    data = nba_json['resultSets'][0]['rowSet']\n",
    "    df = pd.DataFrame(data, columns=headers)\n",
    "    return df\n",
    "\n",
    "def clean_df(df):\n",
    "    df = df.drop(columns=['SEASON_ID', 'PLAYER_ID', 'TEAM_ID','GAME_ID','VIDEO_AVAILABLE'])\n",
    "    df['GAME_DATE'] = df['GAME_DATE'].astype(str)\n",
    "    return df\n",
    "\n",
    "def get_time_ellapsed(str_date):\n",
    "    ymd = str_date.split('-')\n",
    "    y = int(ymd[0])\n",
    "    m = int(ymd[1])\n",
    "    d = int(ymd[2])\n",
    "    then = datetime.datetime(y,m,d)\n",
    "    rn = datetime.datetime.now()\n",
    "    delta = rn - then\n",
    "    return delta.days\n",
    "\n",
    "def make_days_since_col(df):\n",
    "    dates = df['GAME_DATE']\n",
    "    days_since_arr = []\n",
    "    for i in dates:\n",
    "        days_since_arr.append(get_time_ellapsed(i))\n",
    "    df['DAYS_SINCE_RN'] = days_since_arr\n",
    "    return df\n",
    "\n",
    "def get_team_df(team, df):\n",
    "    team_df = df[df['TEAM_ABBREVIATION']==team]\n",
    "    return team_df\n",
    "\n",
    "def get_player_df(player, df):\n",
    "    player_df = df[df['PLAYER_NAME']==player]\n",
    "    return player_df\n",
    "\n",
    "def get_team_json(team_abbr):\n",
    "    nba_json = get_data()\n",
    "    df = clean_df(make_json_df(nba_json))\n",
    "    df = make_days_since_col(df)\n",
    "    team_df = get_team_df(team_abbr, df)\n",
    "    team_json = team_df.to_json()\n",
    "    return team_json\n",
    "\n",
    "def predict_stat(player, stat, df):\n",
    "    player_df = get_player_df(player, df)\n",
    "    sum_days = 0\n",
    "    for num_days in player_df['DAYS_SINCE_RN']:\n",
    "        sum_days += num_days\n",
    "    importances = []\n",
    "    for num_days in player_df['DAYS_SINCE_RN']:\n",
    "        importance = ((sum_days - num_days)/sum_days)\n",
    "        importances.append(importance**4)\n",
    "    stat_ser = player_df[stat]\n",
    "    stats = []\n",
    "    for stat in stat_ser:\n",
    "        stats.append(int(stat))\n",
    "    scores = []\n",
    "    for i in range(len(stats)):\n",
    "        score = importances[i]*stats[i]\n",
    "        scores.append(score)\n",
    "    sum_importance = 0\n",
    "    for imp in importances:\n",
    "        sum_importance += imp\n",
    "    if (sum_importance == 0):\n",
    "        return sum(scores)/sum_days\n",
    "    else:\n",
    "        p_stat = sum(scores)/sum_importance\n",
    "        return round(p_stat, 3)"
   ]
  },
  {
   "cell_type": "code",
   "execution_count": 52,
   "metadata": {},
   "outputs": [],
   "source": [
    "def predict(team):\n",
    "    nba_json = get_data()\n",
    "    df = clean_df(make_json_df(nba_json))\n",
    "    df = make_days_since_col(df)\n",
    "    team_df = get_team_df(team, df)\n",
    "    players = team_df['PLAYER_NAME'].unique()\n",
    "    \n",
    "    p_json_out = []\n",
    "    for player in players:\n",
    "        p_json_out.append({\n",
    "            'NAME': player,\n",
    "            'PTS': predict_stat(player, 'PTS', team_df),\n",
    "            'AST': predict_stat(player, 'AST', team_df),\n",
    "            'REB': predict_stat(player, 'REB', team_df)\n",
    "        })\n",
    "        \n",
    "    return p_json_out"
   ]
  },
  {
   "cell_type": "code",
   "execution_count": 81,
   "metadata": {},
   "outputs": [
    {
     "name": "stdout",
     "output_type": "stream",
     "text": [
      "200\n"
     ]
    }
   ],
   "source": [
    "lal_json = predict('LAL')"
   ]
  },
  {
   "cell_type": "code",
   "execution_count": 146,
   "metadata": {},
   "outputs": [],
   "source": [
    "def predict_lineup(team_df):\n",
    "    lineup_df = team_df[team_df['DAYS_SINCE_RN']<=7]\n",
    "    players = lineup_df['PLAYER_NAME'].unique()\n",
    "    lineup_out = {}\n",
    "    for player in players:\n",
    "        player_df = lineup_df[lineup_df['PLAYER_NAME'] == player]\n",
    "        lineup_out[player] = player_df['MIN'].mean()\n",
    "    return lineup_out"
   ]
  },
  {
   "cell_type": "code",
   "execution_count": 147,
   "metadata": {},
   "outputs": [
    {
     "name": "stdout",
     "output_type": "stream",
     "text": [
      "200\n"
     ]
    }
   ],
   "source": [
    "nba_json = get_data()\n",
    "df = clean_df(make_json_df(nba_json))\n",
    "df = make_days_since_col(df)\n",
    "lal_df = get_team_df('LAL', df)"
   ]
  },
  {
   "cell_type": "code",
   "execution_count": 148,
   "metadata": {},
   "outputs": [],
   "source": [
    "lal_p_lineup = predict_lineup(lal_df)"
   ]
  },
  {
   "cell_type": "code",
   "execution_count": 149,
   "metadata": {},
   "outputs": [],
   "source": [
    "import operator\n",
    "lal_sorted = sorted(lal_p_lineup.items(), key=operator.itemgetter(1))"
   ]
  },
  {
   "cell_type": "code",
   "execution_count": 152,
   "metadata": {},
   "outputs": [
    {
     "data": {
      "text/plain": [
       "[('Moritz Wagner', 2.5),\n",
       " ('Ivica Zubac', 7.0),\n",
       " ('Svi Mykhailiuk', 7.666666666666667),\n",
       " ('Michael Beasley', 9.0),\n",
       " ('Lance Stephenson', 10.0),\n",
       " ('JaVale McGee', 20.5),\n",
       " ('Tyson Chandler', 20.75),\n",
       " ('Josh Hart', 21.0),\n",
       " ('Kentavious Caldwell-Pope', 23.25),\n",
       " ('Lonzo Ball', 27.25),\n",
       " ('Brandon Ingram', 33.0),\n",
       " ('Kyle Kuzma', 34.0),\n",
       " ('LeBron James', 34.75)]"
      ]
     },
     "execution_count": 152,
     "metadata": {},
     "output_type": "execute_result"
    }
   ],
   "source": [
    "lal_sorted"
   ]
  },
  {
   "cell_type": "code",
   "execution_count": 153,
   "metadata": {},
   "outputs": [
    {
     "ename": "NameError",
     "evalue": "name 'take' is not defined",
     "output_type": "error",
     "traceback": [
      "\u001b[0;31m---------------------------------------------------------------------------\u001b[0m",
      "\u001b[0;31mNameError\u001b[0m                                 Traceback (most recent call last)",
      "\u001b[0;32m<ipython-input-153-7f559bb3d102>\u001b[0m in \u001b[0;36m<module>\u001b[0;34m()\u001b[0m\n\u001b[0;32m----> 1\u001b[0;31m \u001b[0mline_up\u001b[0m \u001b[0;34m=\u001b[0m \u001b[0mtake\u001b[0m\u001b[0;34m(\u001b[0m\u001b[0;36m12\u001b[0m\u001b[0;34m,\u001b[0m \u001b[0mlal_sorted\u001b[0m\u001b[0;34m.\u001b[0m\u001b[0miteritems\u001b[0m\u001b[0;34m(\u001b[0m\u001b[0;34m)\u001b[0m\u001b[0;34m)\u001b[0m\u001b[0;34m\u001b[0m\u001b[0m\n\u001b[0m",
      "\u001b[0;31mNameError\u001b[0m: name 'take' is not defined"
     ]
    }
   ],
   "source": [
    "line_up = take(12, lal_sorted.iteritems())"
   ]
  },
  {
   "cell_type": "code",
   "execution_count": 154,
   "metadata": {},
   "outputs": [],
   "source": [
    "lineup = [p: lal_p_lineup[p] for p in sorted(lal_p_lineup.keys())[:12]]"
   ]
  },
  {
   "cell_type": "code",
   "execution_count": 155,
   "metadata": {},
   "outputs": [
    {
     "data": {
      "text/plain": [
       "[33.0,\n",
       " 7.0,\n",
       " 20.5,\n",
       " 21.0,\n",
       " 23.25,\n",
       " 34.0,\n",
       " 10.0,\n",
       " 34.75,\n",
       " 27.25,\n",
       " 9.0,\n",
       " 2.5,\n",
       " 7.666666666666667]"
      ]
     },
     "execution_count": 155,
     "metadata": {},
     "output_type": "execute_result"
    }
   ],
   "source": [
    "lineup"
   ]
  },
  {
   "cell_type": "code",
   "execution_count": null,
   "metadata": {},
   "outputs": [],
   "source": []
  }
 ],
 "metadata": {
  "kernelspec": {
   "display_name": "Python [conda env:pythondata]",
   "language": "python",
   "name": "conda-env-pythondata-py"
  },
  "language_info": {
   "codemirror_mode": {
    "name": "ipython",
    "version": 3
   },
   "file_extension": ".py",
   "mimetype": "text/x-python",
   "name": "python",
   "nbconvert_exporter": "python",
   "pygments_lexer": "ipython3",
   "version": "3.6.5"
  }
 },
 "nbformat": 4,
 "nbformat_minor": 2
}
