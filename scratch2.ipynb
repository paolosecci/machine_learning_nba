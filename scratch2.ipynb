{
 "cells": [
  {
   "cell_type": "code",
   "execution_count": 20,
   "metadata": {},
   "outputs": [],
   "source": [
    "import pandas as pd\n",
    "import datetime\n",
    "\n",
    "c"
   ]
  },
  {
   "cell_type": "code",
   "execution_count": 23,
   "metadata": {},
   "outputs": [],
   "source": [
    "def predict(team):\n",
    "    nba_json = get_data()\n",
    "    df = clean_df(make_json_df(nba_json))\n",
    "    df = make_days_since_col(df)\n",
    "    team_df = get_team_df(team, df)\n",
    "    players = team_df['PLAYER_NAME'].unique()\n",
    "    \n",
    "    p_json_out = []\n",
    "    for player in players:\n",
    "        p_json_out.append({ player: {\n",
    "            'PTS': predict_stat(player, 'PTS', team_df),\n",
    "            'AST': predict_stat(player, 'AST', team_df),\n",
    "            'REB': predict_stat(player, 'REB', team_df)\n",
    "        }})\n",
    "        \n",
    "    return p_json_out"
   ]
  },
  {
   "cell_type": "code",
   "execution_count": 24,
   "metadata": {},
   "outputs": [
    {
     "name": "stdout",
     "output_type": "stream",
     "text": [
      "200\n"
     ]
    },
    {
     "data": {
      "text/plain": [
       "[{'Brandon Ingram': {'PTS': 15.607, 'AST': 2.225, 'REB': 4.221}},\n",
       " {'JaVale McGee': {'PTS': 12.093, 'AST': 1.041, 'REB': 6.252}},\n",
       " {'Josh Hart': {'PTS': 9.149, 'AST': 1.291, 'REB': 3.459}},\n",
       " {'Kentavious Caldwell-Pope': {'PTS': 7.833, 'AST': 0.586, 'REB': 2.264}},\n",
       " {'Michael Beasley': {'PTS': 5.265, 'AST': 0.263, 'REB': 1.253}},\n",
       " {'Kyle Kuzma': {'PTS': 16.189, 'AST': 1.531, 'REB': 4.918}},\n",
       " {'Lonzo Ball': {'PTS': 7.776, 'AST': 4.455, 'REB': 5.76}},\n",
       " {'Lance Stephenson': {'PTS': 7.799, 'AST': 1.815, 'REB': 3.45}},\n",
       " {'LeBron James': {'PTS': 28.165, 'AST': 6.629, 'REB': 7.942}},\n",
       " {'Tyson Chandler': {'PTS': 2.912, 'AST': 0.702, 'REB': 6.393}},\n",
       " {'Svi Mykhailiuk': {'PTS': 2.248, 'AST': 1.006, 'REB': 0.574}},\n",
       " {'Moritz Wagner': {'PTS': 0.0, 'AST': 0.988, 'REB': 0.988}},\n",
       " {'Ivica Zubac': {'PTS': 2.202, 'AST': 0.281, 'REB': 3.459}},\n",
       " {'Rajon Rondo': {'PTS': 8.107, 'AST': 6.319, 'REB': 4.513}},\n",
       " {'Johnathan Williams': {'PTS': 3.702, 'AST': 0.657, 'REB': 3.474}}]"
      ]
     },
     "execution_count": 24,
     "metadata": {},
     "output_type": "execute_result"
    }
   ],
   "source": [
    "predict('LAL')"
   ]
  },
  {
   "cell_type": "code",
   "execution_count": null,
   "metadata": {},
   "outputs": [],
   "source": []
  }
 ],
 "metadata": {
  "kernelspec": {
   "display_name": "Python [conda env:pythondata]",
   "language": "python",
   "name": "conda-env-pythondata-py"
  },
  "language_info": {
   "codemirror_mode": {
    "name": "ipython",
    "version": 3
   },
   "file_extension": ".py",
   "mimetype": "text/x-python",
   "name": "python",
   "nbconvert_exporter": "python",
   "pygments_lexer": "ipython3",
   "version": "3.6.5"
  }
 },
 "nbformat": 4,
 "nbformat_minor": 2
}
