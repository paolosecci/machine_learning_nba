{
 "cells": [
  {
   "cell_type": "code",
   "execution_count": 11,
   "metadata": {},
   "outputs": [],
   "source": [
    "import pandas as pd\n",
    "import datetime\n",
    "\n",
    "def get_data():\n",
    "    import requests\n",
    "    nba_url = \"https://stats.nba.com/stats/leaguegamelog?Counter=1000&DateFrom=&DateTo=&Direction=DESC&LeagueID=00&PlayerOrTeam=P&Season=2018-19&SeasonType=Regular+Season&Sorter=DATE\"\n",
    "    this_user_agent = {'User-Agent': 'Mozilla/5.0 (Macintosh; Intel Mac OS X 10_13_6) AppleWebKit/537.36 (KHTML, like Gecko) Chrome/70.0.3538.77 Safari/537.36'}\n",
    "    re = requests.get(nba_url, headers=this_user_agent)\n",
    "    print(re.status_code)\n",
    "    import json\n",
    "    nba_json = json.loads(re.text)\n",
    "    return nba_json\n",
    "\n",
    "def make_json_df(nba_json):\n",
    "    headers = nba_json['resultSets'][0]['headers']\n",
    "    data = nba_json['resultSets'][0]['rowSet']\n",
    "    df = pd.DataFrame(data, columns=headers)\n",
    "    return df\n",
    "\n",
    "def clean_df(df):\n",
    "    df = df.drop(columns=['SEASON_ID', 'PLAYER_ID', 'TEAM_ID','GAME_ID','VIDEO_AVAILABLE'])\n",
    "    df['GAME_DATE'] = df['GAME_DATE'].astype(str)\n",
    "    return df\n",
    "\n",
    "def get_time_ellapsed(str_date):\n",
    "    ymd = str_date.split('-')\n",
    "    y = int(ymd[0])\n",
    "    m = int(ymd[1])\n",
    "    d = int(ymd[2])\n",
    "    then = datetime.datetime(y,m,d)\n",
    "    rn = datetime.datetime.now()\n",
    "    delta = rn - then\n",
    "    return delta.days\n",
    "\n",
    "def make_days_since_col(df):\n",
    "    dates = df['GAME_DATE']\n",
    "    days_since_arr = []\n",
    "    for i in dates:\n",
    "        days_since_arr.append(get_time_ellapsed(i))\n",
    "    df['DAYS_SINCE_RN'] = days_since_arr\n",
    "    return df\n",
    "\n",
    "def get_team_df(team, df):\n",
    "    team_df = df[df['TEAM_ABBREVIATION']==team]\n",
    "    return team_df\n",
    "\n",
    "def get_player_df(player):\n",
    "    player_df = df[df['PLAYER_NAME']==player]\n",
    "    return player_df\n",
    "\n",
    "def get_team_json(team_abbr):\n",
    "    nba_json = get_data()\n",
    "    df = clean_df(make_json_df(nba_json))\n",
    "    df = make_days_since_col(df)\n",
    "    team_df = get_team_df(team_abbr, df)\n",
    "    team_json = team_df.to_json()\n",
    "    return team_json"
   ]
  },
  {
   "cell_type": "code",
   "execution_count": null,
   "metadata": {},
   "outputs": [],
   "source": [
    "def predict_next(stat):\n",
    "    "
   ]
  }
 ],
 "metadata": {
  "kernelspec": {
   "display_name": "Python [conda env:pythondata]",
   "language": "python",
   "name": "conda-env-pythondata-py"
  },
  "language_info": {
   "codemirror_mode": {
    "name": "ipython",
    "version": 3
   },
   "file_extension": ".py",
   "mimetype": "text/x-python",
   "name": "python",
   "nbconvert_exporter": "python",
   "pygments_lexer": "ipython3",
   "version": "3.6.5"
  }
 },
 "nbformat": 4,
 "nbformat_minor": 2
}
