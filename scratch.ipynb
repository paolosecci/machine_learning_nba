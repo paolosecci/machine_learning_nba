{
 "cells": [
  {
   "cell_type": "code",
   "execution_count": 185,
   "metadata": {},
   "outputs": [],
   "source": [
    "import pandas as pd\n",
    "import datetime\n",
    "import requests\n",
    "import json"
   ]
  },
  {
   "cell_type": "code",
   "execution_count": 240,
   "metadata": {},
   "outputs": [],
   "source": [
    "#FUNCTIONS\n",
    "def get_data():\n",
    "    nba_url = \"https://stats.nba.com/stats/leaguegamelog?Counter=1000&DateFrom=&DateTo=&Direction=DESC&LeagueID=00&PlayerOrTeam=P&Season=2018-19&SeasonType=Regular+Season&Sorter=DATE\"\n",
    "    re = requests.get(nba_url, headers=this_user_agent)\n",
    "    print(re.status_code)\n",
    "    nba_json = json.loads(re.text)\n",
    "    return nba_json\n",
    "\n",
    "def make_json_df(nba_json):\n",
    "    headers = nba_json['resultSets'][0]['headers']\n",
    "    data = nba_json['resultSets'][0]['rowSet']\n",
    "    df = pd.DataFrame(data, columns=headers)\n",
    "    return df\n",
    "\n",
    "def clean_df(df):\n",
    "    df = df.drop(columns=['SEASON_ID', 'PLAYER_ID', 'TEAM_ID','VIDEO_AVAILABLE'])\n",
    "    df['GAME_DATE'] = df['GAME_DATE'].astype(str)\n",
    "    return df\n",
    "\n",
    "def get_time_ellapsed(str_date):\n",
    "    ymd = str_date.split('-')\n",
    "    y = int(ymd[0])\n",
    "    m = int(ymd[1])\n",
    "    d = int(ymd[2])\n",
    "    then = datetime.datetime(y,m,d)\n",
    "    rn = datetime.datetime.now()\n",
    "    delta = rn - then\n",
    "    return delta.days\n",
    "\n",
    "def make_days_since_col(df):\n",
    "    dates = df['GAME_DATE']\n",
    "    days_since_arr = []\n",
    "    for i in dates:\n",
    "        days_since_arr.append(get_time_ellapsed(i))\n",
    "    df['DAYS_SINCE_RN'] = days_since_arr\n",
    "    return df\n",
    "\n",
    "def get_team_df(team, df):\n",
    "    team_df = df[df['TEAM_ABBREVIATION']==team]\n",
    "    return team_df\n",
    "\n",
    "def get_player_df(player, df):\n",
    "    player_df = df[df['PLAYER_NAME']==player]\n",
    "    return player_df\n",
    "\n",
    "def get_team_json(team_abbr):\n",
    "    nba_json = get_data()\n",
    "    df = clean_df(make_json_df(nba_json))\n",
    "    df = make_days_since_col(df)\n",
    "    team_df = get_team_df(team_abbr, df)\n",
    "    team_json = team_df.to_json()\n",
    "    return team_json\n",
    "\n",
    "def predict_stat(player, stat, df):\n",
    "    player_df = get_player_df(player, df)\n",
    "    sum_days = 0\n",
    "    for num_days in player_df['DAYS_SINCE_RN']:\n",
    "        sum_days += num_days\n",
    "    importances = []\n",
    "    for num_days in player_df['DAYS_SINCE_RN']:\n",
    "        importance = ((sum_days - num_days)/sum_days)\n",
    "        importances.append(importance**4)\n",
    "    sum_days\n",
    "    stat_ser = player_df[stat]\n",
    "    stats = []\n",
    "    for stat in stat_ser:\n",
    "        stats.append(int(stat))\n",
    "    scores = []\n",
    "    for i in range(len(stats)):\n",
    "        score = importances[i]*stats[i]\n",
    "        scores.append(score)\n",
    "    sum_importance = 0\n",
    "    for imp in importances:\n",
    "        sum_importance += imp\n",
    "    if (sum_importance == 0):\n",
    "        return sum(scores)\n",
    "    else:\n",
    "        p_stat = sum(scores)/sum_importance\n",
    "        return round(p_stat, 2)\n",
    "\n",
    "def predict_lineup(team_df):\n",
    "    lineup_df = team_df[team_df['DAYS_SINCE_RN']<=7]\n",
    "    players = lineup_df['PLAYER_NAME'].unique()\n",
    "    lineup_out = {}\n",
    "    for player in players:\n",
    "        player_df = lineup_df[lineup_df['PLAYER_NAME'] == player]\n",
    "        lineup_out[player] = player_df['MIN'].mean()\n",
    "    import operator\n",
    "    line_up_sorted_12 = list(reversed(sorted(lineup_out.items(), key=operator.itemgetter(1))))[:12]\n",
    "    lineup = []\n",
    "    for obj in line_up_sorted_12:\n",
    "        lineup.append(obj[0])\n",
    "    return lineup\n",
    "\n",
    "def predict_team_stat(df, stat):\n",
    "    df\n",
    "    sum_days = 0\n",
    "    for num_days in df['DAYS_SINCE_RN']:\n",
    "        sum_days += num_days\n",
    "    importances = []\n",
    "    for num_days in df['DAYS_SINCE_RN']:\n",
    "        importance = ((sum_days - num_days)/sum_days)\n",
    "        importances.append(importance**4)\n",
    "    stat_ser = df[stat]\n",
    "    stats = []\n",
    "    for stat in stat_ser:\n",
    "        stats.append(int(stat))\n",
    "    scores = []\n",
    "    for i in range(len(stats)):\n",
    "        score = importances[i]*stats[i]\n",
    "        scores.append(score)\n",
    "    sum_importance = 0\n",
    "    for imp in importances:\n",
    "        sum_importance += imp\n",
    "    if (sum_importance == 0):\n",
    "        return sum(scores)\n",
    "    else:\n",
    "        p_stat = sum(scores)/sum_importance\n",
    "        return round(p_stat, 2)\n",
    "def predict_team(t):\n",
    "    with open('data/nba_team_boxscores.json') as file_in:\n",
    "        nba_t_json = json.load(file_in)\n",
    "    df = make_json_df(nba_t_json)\n",
    "    t_df = df[df['TEAM_ABBREVIATION'] == t]\n",
    "    t_games = list(t_df['GAME_ID'])\n",
    "    t_match_df = df[df['GAME_ID'].isin(t_games)]\n",
    "    t_opp_df = t_match_df[t_match_df['TEAM_ABBREVIATION'] != t]\n",
    "    t_opp_pts = list(t_opp_df['PTS'])\n",
    "    t_pts = t_df['PTS']\n",
    "    while len(t_opp_pts) < len(t_df):\n",
    "        t_opp_pts.append(sum(t_opp_pts)/len(t_opp_pts))\n",
    "        \n",
    "    pts_r = []\n",
    "    for pts in t_df['PTS']:\n",
    "        pts_r.insert(0, pts)\n",
    "    t_df['pts_r'] = pts_r\n",
    "    \n",
    "    o_pts_r = []\n",
    "    for o_pts in t_opp_pts:\n",
    "        o_pts_r.insert(0, o_pts)\n",
    "    t_df['o_pts_r'] = o_pts_r\n",
    "    \n",
    "    predicted_pts = t_df['pts_r'].ewm(alpha=.5).mean().iloc[-1]\n",
    "    predicted_opp_pts = t_df['o_pts_r'].ewm(alpha=.5).mean().iloc[-1]\n",
    "    return {'predicted_pts': predicted_pts, 'predicted_opp_pts': predicted_opp_pts}"
   ]
  },
  {
   "cell_type": "code",
   "execution_count": 238,
   "metadata": {},
   "outputs": [],
   "source": [
    "def simgame(t1, t2):\n",
    "    p_t1 = predict_team(t1)\n",
    "    p_t2 = predict_team(t2)\n",
    "    t1s = (p_t1['predicted_pts'] + p_t2['predicted_opp_pts']) / 2\n",
    "    t2s = (p_t2['predicted_pts'] + p_t1['predicted_opp_pts']) / 2\n",
    "    return [t1s, t2s]"
   ]
  },
  {
   "cell_type": "code",
   "execution_count": 245,
   "metadata": {},
   "outputs": [
    {
     "name": "stderr",
     "output_type": "stream",
     "text": [
      "/Users/paolosecci/anaconda3/envs/PythonData/lib/python3.6/site-packages/ipykernel/__main__.py:136: SettingWithCopyWarning: \n",
      "A value is trying to be set on a copy of a slice from a DataFrame.\n",
      "Try using .loc[row_indexer,col_indexer] = value instead\n",
      "\n",
      "See the caveats in the documentation: http://pandas.pydata.org/pandas-docs/stable/indexing.html#indexing-view-versus-copy\n",
      "/Users/paolosecci/anaconda3/envs/PythonData/lib/python3.6/site-packages/ipykernel/__main__.py:141: SettingWithCopyWarning: \n",
      "A value is trying to be set on a copy of a slice from a DataFrame.\n",
      "Try using .loc[row_indexer,col_indexer] = value instead\n",
      "\n",
      "See the caveats in the documentation: http://pandas.pydata.org/pandas-docs/stable/indexing.html#indexing-view-versus-copy\n"
     ]
    },
    {
     "data": {
      "text/plain": [
       "{'predicted_pts': 113.2176492473661, 'predicted_opp_pts': 99.40222160842676}"
      ]
     },
     "execution_count": 245,
     "metadata": {},
     "output_type": "execute_result"
    }
   ],
   "source": [
    "predict_team('LAL')"
   ]
  },
  {
   "cell_type": "code",
   "execution_count": 246,
   "metadata": {},
   "outputs": [
    {
     "name": "stderr",
     "output_type": "stream",
     "text": [
      "/Users/paolosecci/anaconda3/envs/PythonData/lib/python3.6/site-packages/ipykernel/__main__.py:136: SettingWithCopyWarning: \n",
      "A value is trying to be set on a copy of a slice from a DataFrame.\n",
      "Try using .loc[row_indexer,col_indexer] = value instead\n",
      "\n",
      "See the caveats in the documentation: http://pandas.pydata.org/pandas-docs/stable/indexing.html#indexing-view-versus-copy\n",
      "/Users/paolosecci/anaconda3/envs/PythonData/lib/python3.6/site-packages/ipykernel/__main__.py:141: SettingWithCopyWarning: \n",
      "A value is trying to be set on a copy of a slice from a DataFrame.\n",
      "Try using .loc[row_indexer,col_indexer] = value instead\n",
      "\n",
      "See the caveats in the documentation: http://pandas.pydata.org/pandas-docs/stable/indexing.html#indexing-view-versus-copy\n"
     ]
    },
    {
     "data": {
      "text/plain": [
       "{'predicted_pts': 111.04697341006836, 'predicted_opp_pts': 131.113172120641}"
      ]
     },
     "execution_count": 246,
     "metadata": {},
     "output_type": "execute_result"
    }
   ],
   "source": [
    "predict_team('SAS')"
   ]
  },
  {
   "cell_type": "code",
   "execution_count": null,
   "metadata": {},
   "outputs": [],
   "source": []
  }
 ],
 "metadata": {
  "kernelspec": {
   "display_name": "Python [default]",
   "language": "python",
   "name": "python3"
  },
  "language_info": {
   "codemirror_mode": {
    "name": "ipython",
    "version": 3
   },
   "file_extension": ".py",
   "mimetype": "text/x-python",
   "name": "python",
   "nbconvert_exporter": "python",
   "pygments_lexer": "ipython3",
   "version": "3.6.5"
  }
 },
 "nbformat": 4,
 "nbformat_minor": 2
}
